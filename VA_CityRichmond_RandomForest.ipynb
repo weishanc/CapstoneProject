{
 "cells": [
  {
   "cell_type": "code",
   "execution_count": 1,
   "metadata": {
    "collapsed": true
   },
   "outputs": [],
   "source": [
    "import pandas as pd\n",
    "import numpy as np\n",
    "import matplotlib.pyplot as plt\n",
    "import seaborn as sns\n",
    "from sklearn.ensemble import RandomForestRegressor\n",
    "from sklearn.model_selection import cross_val_score\n",
    "from sklearn.model_selection import train_test_split\n",
    "from sklearn import metrics\n",
    "from sklearn.linear_model import LinearRegression\n",
    "from sklearn.tree import DecisionTreeRegressor\n",
    "\n",
    "%matplotlib inline"
   ]
  },
  {
   "cell_type": "code",
   "execution_count": 2,
   "metadata": {
    "collapsed": true
   },
   "outputs": [],
   "source": [
    "# download from https://evictionlab.org/get-the-data/\n",
    "# Choose VA => choose \"all.csv\" (Change the file name to 'VA.csv')\n",
    "# Choose VA => choose \"cities.csv\" (Change the file name to 'cities_VA.csv')\n",
    "df = pd.read_csv('block-groups_VA.csv')"
   ]
  },
  {
   "cell_type": "code",
   "execution_count": 3,
   "metadata": {
    "collapsed": true
   },
   "outputs": [],
   "source": [
    "df_clean = df.dropna(axis=0, how='any')"
   ]
  },
  {
   "cell_type": "code",
   "execution_count": 4,
   "metadata": {
    "collapsed": true
   },
   "outputs": [],
   "source": [
    "df_clean = df_clean[df_clean['eviction-rate']<100]"
   ]
  },
  {
   "cell_type": "code",
   "execution_count": 5,
   "metadata": {
    "collapsed": true
   },
   "outputs": [],
   "source": [
    "HighRankCity = ['Richmond city, Virginia', 'Hampton city, Virginia', 'Newport News city, Virginia', 'Norfolk city, Virginia', 'Chesapeake city, Virginia']"
   ]
  },
  {
   "cell_type": "code",
   "execution_count": 6,
   "metadata": {},
   "outputs": [
    {
     "data": {
      "text/plain": [
       "Index(['GEOID', 'year', 'name', 'parent-location', 'population',\n",
       "       'poverty-rate', 'pct-renter-occupied', 'median-gross-rent',\n",
       "       'median-household-income', 'median-property-value', 'rent-burden',\n",
       "       'pct-white', 'pct-af-am', 'pct-hispanic', 'pct-am-ind', 'pct-asian',\n",
       "       'pct-nh-pi', 'pct-multiple', 'pct-other', 'renter-occupied-households',\n",
       "       'eviction-filings', 'evictions', 'eviction-rate',\n",
       "       'eviction-filing-rate', 'imputed', 'subbed'],\n",
       "      dtype='object')"
      ]
     },
     "execution_count": 6,
     "metadata": {},
     "output_type": "execute_result"
    }
   ],
   "source": [
    "df_clean.columns"
   ]
  },
  {
   "cell_type": "code",
   "execution_count": 7,
   "metadata": {
    "collapsed": true
   },
   "outputs": [],
   "source": [
    "# df_city=df_clean[(df_clean['name']==HighRankCity[0]) | (df_clean['name']==HighRankCity[1]) | (df_clean['name']==HighRankCity[2]) | (df_clean['name']==HighRankCity[3]) | (df_clean['name']==HighRankCity[4])]"
   ]
  },
  {
   "cell_type": "code",
   "execution_count": 8,
   "metadata": {},
   "outputs": [
    {
     "data": {
      "text/plain": [
       "(130, 26)"
      ]
     },
     "execution_count": 8,
     "metadata": {},
     "output_type": "execute_result"
    }
   ],
   "source": [
    "df_city=df_clean[df_clean['parent-location']==HighRankCity[0]]   # Analyze 'Richmond city, Virginia' first\n",
    "\n",
    "df_city_2016=df_clean[(df_clean['parent-location']==HighRankCity[0]) & (df_clean['year']==2016)]\n",
    "\n",
    "df_city_2016.shape"
   ]
  },
  {
   "cell_type": "markdown",
   "metadata": {},
   "source": [
    "# Analyze Richmond city, Virginia in 2016"
   ]
  },
  {
   "cell_type": "code",
   "execution_count": 9,
   "metadata": {
    "collapsed": true
   },
   "outputs": [],
   "source": [
    "X = df_city_2016.drop(['GEOID','year','name','parent-location','imputed','subbed','eviction-rate','eviction-filings','evictions','eviction-filing-rate'],axis=1)\n",
    "y = df_city_2016['eviction-rate']\n",
    "\n",
    "X_train, X_test, y_train, y_test = train_test_split(X, y, test_size=0.3, random_state=101)\n",
    "\n",
    "rfc = RandomForestRegressor(n_estimators=100)\n",
    "\n",
    "rfc.fit(X_train,y_train)\n",
    "\n",
    "predictions = rfc.predict(X_test)"
   ]
  },
  {
   "cell_type": "code",
   "execution_count": 10,
   "metadata": {},
   "outputs": [
    {
     "data": {
      "image/png": "[encoded data removed]",
      "text/plain": [
       "<matplotlib.figure.Figure at 0x1e765bd7160>"
      ]
     },
     "metadata": {},
     "output_type": "display_data"
    }
   ],
   "source": [
    "plt.scatter(y_test,predictions)\n",
    "plt.xlabel(\"target\")\n",
    "plt.ylabel(\"prediction\")\n",
    "ymin = np.round( min( min(y_test), min(predictions) ) )\n",
    "ymax = np.ceil( max( max(y_test), max(predictions) ) )"
   ]
  },
  {
   "cell_type": "code",
   "execution_count": 11,
   "metadata": {},
   "outputs": [
    {
     "data": {
      "image/png": "[encoded data removed]",
      "text/plain": [
       "<matplotlib.figure.Figure at 0x1e76575d358>"
      ]
     },
     "metadata": {},
     "output_type": "display_data"
    }
   ],
   "source": [
    "sns.distplot((y_test-predictions),bins=50);"
   ]
  },
  {
   "cell_type": "code",
   "execution_count": 12,
   "metadata": {},
   "outputs": [
    {
     "name": "stdout",
     "output_type": "stream",
     "text": [
      "Training set score: 0.9203533856\n",
      "Test set score: 0.2545397216\n",
      "MAE: 6.66915641026\n",
      "MSE: 131.45415642\n",
      "RMSE: 11.4653458918\n"
     ]
    }
   ],
   "source": [
    "print(\"Training set score: %.10f\" % rfc.score(X_train, y_train))\n",
    "print(\"Test set score: %.10f\" % rfc.score(X_test, y_test))\n",
    "\n",
    "print('MAE:', metrics.mean_absolute_error(y_test, predictions))\n",
    "print('MSE:', metrics.mean_squared_error(y_test, predictions))\n",
    "print('RMSE:', np.sqrt(metrics.mean_squared_error(y_test, predictions)))"
   ]
  },
  {
   "cell_type": "code",
   "execution_count": 13,
   "metadata": {},
   "outputs": [
    {
     "name": "stdout",
     "output_type": "stream",
     "text": [
      "Feature ranking:\n",
      "1. feature 8 (pct-af-am) (0.460535)\n",
      "2. feature 2 (pct-renter-occupied) (0.120105)\n",
      "3. feature 7 (pct-white) (0.116255)\n",
      "4. feature 5 (median-property-value) (0.054284)\n",
      "5. feature 0 (population) (0.044806)\n",
      "6. feature 3 (median-gross-rent) (0.037658)\n",
      "7. feature 13 (pct-multiple) (0.033434)\n",
      "8. feature 1 (poverty-rate) (0.028327)\n",
      "9. feature 6 (rent-burden) (0.024326)\n",
      "10. feature 10 (pct-am-ind) (0.018014)\n",
      "11. feature 15 (renter-occupied-households) (0.017961)\n",
      "12. feature 9 (pct-hispanic) (0.016286)\n",
      "13. feature 4 (median-household-income) (0.013985)\n",
      "14. feature 11 (pct-asian) (0.010159)\n",
      "15. feature 12 (pct-nh-pi) (0.003379)\n",
      "16. feature 14 (pct-other) (0.000486)\n"
     ]
    },
    {
     "data": {
      "image/png": "[encoded data removed]",
      "text/plain": [
       "<matplotlib.figure.Figure at 0x1e76634b860>"
      ]
     },
     "metadata": {},
     "output_type": "display_data"
    }
   ],
   "source": [
    "importances = rfc.feature_importances_\n",
    "\n",
    "std = np.std([tree.feature_importances_ for tree in rfc.estimators_], axis=0)\n",
    "indices = np.argsort(importances)[::-1]\n",
    "\n",
    "# Print the feature ranking\n",
    "print(\"Feature ranking:\")\n",
    "\n",
    "for f in range(X.shape[1]):\n",
    "    print(\"%d. feature %d (%s) (%f)\" % (f + 1,indices[f], X.columns[indices[f]], importances[indices[f]]))\n",
    "    \n",
    "# Plot the feature importances of the forest\n",
    "plt.figure()\n",
    "plt.title(\"Feature importances for Richmond city, Virginia in 2016\")\n",
    "plt.bar(range(X.shape[1]), importances[indices],\n",
    "       color=\"r\", yerr=std[indices], align=\"center\")\n",
    "plt.xticks(range(X.shape[1]), indices)\n",
    "plt.xlim([-1, X.shape[1]])\n",
    "plt.show()"
   ]
  },
  {
   "cell_type": "code",
   "execution_count": 14,
   "metadata": {
    "collapsed": true
   },
   "outputs": [],
   "source": [
    "ds_importances = pd.Series(importances, name='importances')\n",
    "ds_std = pd.Series(std, name='std')\n",
    "ds_columns = pd.Series(X.columns,name='features')\n",
    "Results = pd.concat([ds_importances, ds_std,ds_columns], axis=1)\n",
    "Results.to_csv('Result_VA_RichmondCity_2016_rf_all.csv')"
   ]
  },
  {
   "cell_type": "markdown",
   "metadata": {},
   "source": []
  },
  {
   "cell_type": "code",
   "execution_count": 15,
   "metadata": {},
   "outputs": [
    {
     "name": "stdout",
     "output_type": "stream",
     "text": [
      "CV single tree: -0.0316947794644\n",
      "CV baseline: 0.0611598543497\n",
      "CV forest: 0.468808440392\n"
     ]
    }
   ],
   "source": [
    "# do a quick baseline test\n",
    "baseline = LinearRegression()\n",
    "single_tree = DecisionTreeRegressor()\n",
    "print(\"CV single tree:\", cross_val_score(single_tree, X_train, y_train).mean())\n",
    "print(\"CV baseline:\", cross_val_score(baseline,X_train, y_train).mean())\n",
    "print(\"CV forest:\", cross_val_score(rfc, X_train, y_train).mean())"
   ]
  },
  {
   "cell_type": "code",
   "execution_count": 16,
   "metadata": {},
   "outputs": [
    {
     "name": "stdout",
     "output_type": "stream",
     "text": [
      "test score single tree: 0.0636532368986\n",
      "test score baseline: 0.114539118092\n",
      "test score forest: 0.254539721649\n"
     ]
    }
   ],
   "source": [
    "# test score\n",
    "single_tree.fit(X_train, y_train)\n",
    "baseline.fit(X_train, y_train)\n",
    "print(\"test score single tree:\", single_tree.score(X_test, y_test))\n",
    "print(\"test score baseline:\", baseline.score(X_test, y_test))\n",
    "print(\"test score forest:\", rfc.score(X_test, y_test))"
   ]
  },
  {
   "cell_type": "code",
   "execution_count": null,
   "metadata": {
    "collapsed": true
   },
   "outputs": [],
   "source": []
  },
  {
   "cell_type": "code",
   "execution_count": null,
   "metadata": {
    "collapsed": true
   },
   "outputs": [],
   "source": []
  },
  {
   "cell_type": "markdown",
   "metadata": {},
   "source": [
    "# Use pct-af-am race only"
   ]
  },
  {
   "cell_type": "code",
   "execution_count": 17,
   "metadata": {},
   "outputs": [
    {
     "data": {
      "image/png": "[encoded data removed]",
      "text/plain": [
       "<matplotlib.figure.Figure at 0x1e7662d4780>"
      ]
     },
     "metadata": {},
     "output_type": "display_data"
    }
   ],
   "source": [
    "X = df_city_2016.drop(['GEOID','year','name','parent-location','imputed','subbed','eviction-rate','eviction-filings','evictions','eviction-filing-rate',\n",
    "                      'renter-occupied-households','pct-nh-pi','pct-other','pct-am-ind','pct-white','population','pct-hispanic','pct-multiple','pct-asian'],axis=1)\n",
    "y = df_city_2016['eviction-rate']\n",
    "\n",
    "X_train, X_test, y_train, y_test = train_test_split(X, y, test_size=0.3, random_state=101)\n",
    "\n",
    "rfc = RandomForestRegressor(n_estimators=100)\n",
    "rfc.fit(X_train,y_train)\n",
    "\n",
    "predictions = rfc.predict(X_test)\n",
    "plt.scatter(y_test,predictions)\n",
    "plt.xlabel(\"target\")\n",
    "plt.ylabel(\"prediction\")\n",
    "ymin = np.round( min( min(y_test), min(predictions) ) )\n",
    "ymax = np.ceil( max( max(y_test), max(predictions) ) )"
   ]
  },
  {
   "cell_type": "code",
   "execution_count": 18,
   "metadata": {
    "scrolled": true
   },
   "outputs": [
    {
     "name": "stdout",
     "output_type": "stream",
     "text": [
      "Training set score: 0.9183107681\n",
      "Test set score: 0.2397141772\n",
      "MAE: 7.08899487179\n",
      "MSE: 134.06848679\n",
      "RMSE: 11.5787947037\n"
     ]
    }
   ],
   "source": [
    "print(\"Training set score: %.10f\" % rfc.score(X_train, y_train))\n",
    "print(\"Test set score: %.10f\" % rfc.score(X_test, y_test))\n",
    "print('MAE:', metrics.mean_absolute_error(y_test, predictions))\n",
    "print('MSE:', metrics.mean_squared_error(y_test, predictions))\n",
    "print('RMSE:', np.sqrt(metrics.mean_squared_error(y_test, predictions)))"
   ]
  },
  {
   "cell_type": "code",
   "execution_count": 19,
   "metadata": {},
   "outputs": [
    {
     "name": "stdout",
     "output_type": "stream",
     "text": [
      "Feature ranking:\n",
      "1. feature 6 (pct-af-am) (0.579487)\n",
      "2. feature 1 (pct-renter-occupied) (0.152684)\n",
      "3. feature 4 (median-property-value) (0.069323)\n",
      "4. feature 0 (poverty-rate) (0.064186)\n",
      "5. feature 2 (median-gross-rent) (0.056937)\n",
      "6. feature 3 (median-household-income) (0.040183)\n",
      "7. feature 5 (rent-burden) (0.037200)\n"
     ]
    },
    {
     "data": {
      "image/png": "[encoded data removed]",
      "text/plain": [
       "<matplotlib.figure.Figure at 0x1e7662c0780>"
      ]
     },
     "metadata": {},
     "output_type": "display_data"
    }
   ],
   "source": [
    "importances = rfc.feature_importances_\n",
    "\n",
    "std = np.std([tree.feature_importances_ for tree in rfc.estimators_], axis=0)\n",
    "indices = np.argsort(importances)[::-1]\n",
    "\n",
    "# Print the feature ranking\n",
    "print(\"Feature ranking:\")\n",
    "\n",
    "for f in range(X.shape[1]):\n",
    "    print(\"%d. feature %d (%s) (%f)\" % (f + 1,indices[f], X.columns[indices[f]], importances[indices[f]]))\n",
    "    \n",
    "# Plot the feature importances of the forest\n",
    "plt.figure()\n",
    "plt.title(\"Feature importances for Richmond city, Virginia in 2016\")\n",
    "plt.bar(range(X.shape[1]), importances[indices],\n",
    "       color=\"r\", yerr=std[indices], align=\"center\")\n",
    "plt.xticks(range(X.shape[1]), indices)\n",
    "plt.xlim([-1, X.shape[1]])\n",
    "plt.show()"
   ]
  },
  {
   "cell_type": "code",
   "execution_count": 20,
   "metadata": {
    "collapsed": true
   },
   "outputs": [],
   "source": [
    "ds_importances = pd.Series(importances, name='importances')\n",
    "ds_std = pd.Series(std, name='std')\n",
    "ds_columns = pd.Series(X.columns,name='features')\n",
    "Results = pd.concat([ds_importances, ds_std,ds_columns], axis=1)\n",
    "Results.to_csv('Result_VA_RichmondCity_2016_rf_pct-af-am.csv')"
   ]
  },
  {
   "cell_type": "markdown",
   "metadata": {},
   "source": []
  },
  {
   "cell_type": "code",
   "execution_count": null,
   "metadata": {
    "collapsed": true
   },
   "outputs": [],
   "source": []
  },
  {
   "cell_type": "markdown",
   "metadata": {},
   "source": [
    "# Analyze Richmond city, Virginia all 2000-2016 years"
   ]
  },
  {
   "cell_type": "code",
   "execution_count": 21,
   "metadata": {
    "collapsed": true
   },
   "outputs": [],
   "source": [
    "X = df_city.drop(['GEOID','year','name','parent-location','imputed','subbed','eviction-rate','eviction-filings','evictions','eviction-filing-rate'],axis=1)\n",
    "y = df_city['eviction-rate']\n",
    "\n",
    "X_train, X_test, y_train, y_test = train_test_split(X, y, test_size=0.3, random_state=101)\n",
    "\n",
    "rfc = RandomForestRegressor(n_estimators=100)\n",
    "\n",
    "rfc.fit(X_train,y_train)\n",
    "\n",
    "predictions = rfc.predict(X_test)"
   ]
  },
  {
   "cell_type": "code",
   "execution_count": 22,
   "metadata": {},
   "outputs": [
    {
     "data": {
      "image/png": "[encoded data removed]",
      "text/plain": [
       "<matplotlib.figure.Figure at 0x1e76575db70>"
      ]
     },
     "metadata": {},
     "output_type": "display_data"
    }
   ],
   "source": [
    "plt.scatter(y_test,predictions)\n",
    "plt.xlabel(\"target\")\n",
    "plt.ylabel(\"prediction\")\n",
    "ymin = np.round( min( min(y_test), min(predictions) ) )\n",
    "ymax = np.ceil( max( max(y_test), max(predictions) ) )"
   ]
  },
  {
   "cell_type": "code",
   "execution_count": 23,
   "metadata": {},
   "outputs": [
    {
     "name": "stdout",
     "output_type": "stream",
     "text": [
      "Training set score: 0.9483542346\n",
      "Test set score: 0.6736721963\n",
      "MAE: 3.50491131078\n",
      "MSE: 28.0071313017\n",
      "RMSE: 5.2921764239\n"
     ]
    }
   ],
   "source": [
    "print(\"Training set score: %.10f\" % rfc.score(X_train, y_train))\n",
    "print(\"Test set score: %.10f\" % rfc.score(X_test, y_test))\n",
    "\n",
    "print('MAE:', metrics.mean_absolute_error(y_test, predictions))\n",
    "print('MSE:', metrics.mean_squared_error(y_test, predictions))\n",
    "print('RMSE:', np.sqrt(metrics.mean_squared_error(y_test, predictions)))"
   ]
  },
  {
   "cell_type": "code",
   "execution_count": 24,
   "metadata": {},
   "outputs": [
    {
     "name": "stdout",
     "output_type": "stream",
     "text": [
      "Feature ranking:\n",
      "1. feature 7 (pct-white) (0.388471)\n",
      "2. feature 15 (renter-occupied-households) (0.142972)\n",
      "3. feature 8 (pct-af-am) (0.107556)\n",
      "4. feature 2 (pct-renter-occupied) (0.055744)\n",
      "5. feature 0 (population) (0.040571)\n",
      "6. feature 3 (median-gross-rent) (0.038888)\n",
      "7. feature 4 (median-household-income) (0.038603)\n",
      "8. feature 9 (pct-hispanic) (0.037000)\n",
      "9. feature 5 (median-property-value) (0.027192)\n",
      "10. feature 1 (poverty-rate) (0.023342)\n",
      "11. feature 6 (rent-burden) (0.022157)\n",
      "12. feature 11 (pct-asian) (0.019110)\n",
      "13. feature 14 (pct-other) (0.018435)\n",
      "14. feature 10 (pct-am-ind) (0.018181)\n",
      "15. feature 13 (pct-multiple) (0.017116)\n",
      "16. feature 12 (pct-nh-pi) (0.004662)\n"
     ]
    },
    {
     "data": {
      "image/png": "[encoded data removed]",
      "text/plain": [
       "<matplotlib.figure.Figure at 0x1e7662f09b0>"
      ]
     },
     "metadata": {},
     "output_type": "display_data"
    }
   ],
   "source": [
    "importances = rfc.feature_importances_\n",
    "\n",
    "std = np.std([tree.feature_importances_ for tree in rfc.estimators_], axis=0)\n",
    "indices = np.argsort(importances)[::-1]\n",
    "\n",
    "# Print the feature ranking\n",
    "print(\"Feature ranking:\")\n",
    "\n",
    "for f in range(X.shape[1]):\n",
    "    print(\"%d. feature %d (%s) (%f)\" % (f + 1,indices[f], X.columns[indices[f]], importances[indices[f]]))\n",
    "    \n",
    "# Plot the feature importances of the forest\n",
    "plt.figure()\n",
    "plt.title(\"Feature importances for Richmond city, Virginia from 2000-2016\")\n",
    "plt.bar(range(X.shape[1]), importances[indices],\n",
    "       color=\"r\", yerr=std[indices], align=\"center\")\n",
    "plt.xticks(range(X.shape[1]), indices)\n",
    "plt.xlim([-1, X.shape[1]])\n",
    "plt.show()"
   ]
  },
  {
   "cell_type": "code",
   "execution_count": 25,
   "metadata": {
    "collapsed": true
   },
   "outputs": [],
   "source": [
    "ds_importances = pd.Series(importances, name='importances')\n",
    "ds_std = pd.Series(std, name='std')\n",
    "ds_columns = pd.Series(X.columns,name='features')\n",
    "Results = pd.concat([ds_importances, ds_std,ds_columns], axis=1)\n",
    "Results.to_csv('Result_VA_RichmondCity_years_all.csv')"
   ]
  },
  {
   "cell_type": "markdown",
   "metadata": {},
   "source": [
    "# Use pct-af-am race only"
   ]
  },
  {
   "cell_type": "code",
   "execution_count": 26,
   "metadata": {},
   "outputs": [
    {
     "data": {
      "image/png": "[encoded data removed]",
      "text/plain": [
       "<matplotlib.figure.Figure at 0x1e76647a080>"
      ]
     },
     "metadata": {},
     "output_type": "display_data"
    }
   ],
   "source": [
    "# Use pct-af-am race only\n",
    "X = df_city.drop(['GEOID','year','name','parent-location','imputed','subbed','eviction-rate','eviction-filings','evictions','eviction-filing-rate',\n",
    "                      'renter-occupied-households','pct-nh-pi','pct-other','pct-am-ind','pct-white','population','pct-hispanic','pct-multiple','pct-asian'],axis=1)\n",
    "y = df_city['eviction-rate']\n",
    "\n",
    "X_train, X_test, y_train, y_test = train_test_split(X, y, test_size=0.3, random_state=101)\n",
    "\n",
    "rfc = RandomForestRegressor(n_estimators=100)\n",
    "rfc.fit(X_train,y_train)\n",
    "\n",
    "predictions = rfc.predict(X_test)\n",
    "plt.scatter(y_test,predictions)\n",
    "plt.xlabel(\"target\")\n",
    "plt.ylabel(\"prediction\")\n",
    "ymin = np.round( min( min(y_test), min(predictions) ) )\n",
    "ymax = np.ceil( max( max(y_test), max(predictions) ) )"
   ]
  },
  {
   "cell_type": "code",
   "execution_count": 27,
   "metadata": {},
   "outputs": [
    {
     "name": "stdout",
     "output_type": "stream",
     "text": [
      "Training set score: 0.8379889073\n",
      "Test set score: 0.6806728387\n",
      "MAE: 3.43625343036\n",
      "MSE: 27.4063001449\n",
      "RMSE: 5.23510268714\n"
     ]
    }
   ],
   "source": [
    "print(\"Training set score: %.10f\" % rfc.score(X_train, y_train))\n",
    "print(\"Test set score: %.10f\" % rfc.score(X_test, y_test))\n",
    "print('MAE:', metrics.mean_absolute_error(y_test, predictions))\n",
    "print('MSE:', metrics.mean_squared_error(y_test, predictions))\n",
    "print('RMSE:', np.sqrt(metrics.mean_squared_error(y_test, predictions)))"
   ]
  },
  {
   "cell_type": "code",
   "execution_count": 28,
   "metadata": {},
   "outputs": [
    {
     "name": "stdout",
     "output_type": "stream",
     "text": [
      "Feature ranking:\n",
      "1. feature 6 (pct-af-am) (0.559414)\n",
      "2. feature 1 (pct-renter-occupied) (0.094576)\n",
      "3. feature 3 (median-household-income) (0.092522)\n",
      "4. feature 4 (median-property-value) (0.077011)\n",
      "5. feature 2 (median-gross-rent) (0.067028)\n",
      "6. feature 0 (poverty-rate) (0.061607)\n",
      "7. feature 5 (rent-burden) (0.047842)\n"
     ]
    },
    {
     "data": {
      "image/png": "[encoded data removed]",
      "text/plain": [
       "<matplotlib.figure.Figure at 0x1e7663d95f8>"
      ]
     },
     "metadata": {},
     "output_type": "display_data"
    }
   ],
   "source": [
    "importances = rfc.feature_importances_\n",
    "\n",
    "std = np.std([tree.feature_importances_ for tree in rfc.estimators_], axis=0)\n",
    "indices = np.argsort(importances)[::-1]\n",
    "\n",
    "# Print the feature ranking\n",
    "print(\"Feature ranking:\")\n",
    "\n",
    "for f in range(X.shape[1]):\n",
    "    print(\"%d. feature %d (%s) (%f)\" % (f + 1,indices[f], X.columns[indices[f]], importances[indices[f]]))\n",
    "    \n",
    "# Plot the feature importances of the forest\n",
    "plt.figure()\n",
    "plt.title(\"Feature importances for Richmond city, Virginia from 2000-2016\")\n",
    "plt.bar(range(X.shape[1]), importances[indices],\n",
    "       color=\"r\", yerr=std[indices], align=\"center\")\n",
    "plt.xticks(range(X.shape[1]), indices)\n",
    "plt.xlim([-1, X.shape[1]])\n",
    "plt.show()"
   ]
  },
  {
   "cell_type": "code",
   "execution_count": 29,
   "metadata": {
    "collapsed": true
   },
   "outputs": [],
   "source": [
    "ds_importances = pd.Series(importances, name='importances')\n",
    "ds_std = pd.Series(std, name='std')\n",
    "ds_columns = pd.Series(X.columns,name='features')\n",
    "Results = pd.concat([ds_importances, ds_std,ds_columns], axis=1)\n",
    "Results.to_csv('Result_VA_RichmondCity_years_rf_pct-af-am.csv')"
   ]
  },
  {
   "cell_type": "code",
   "execution_count": 30,
   "metadata": {},
   "outputs": [
    {
     "name": "stdout",
     "output_type": "stream",
     "text": [
      "CV single tree: 0.61466623605\n",
      "CV baseline: 0.406345833003\n",
      "CV forest: 0.678094419619\n"
     ]
    }
   ],
   "source": [
    "# do a quick baseline test\n",
    "baseline = LinearRegression()\n",
    "single_tree = DecisionTreeRegressor()\n",
    "print(\"CV single tree:\", cross_val_score(single_tree, X_train, y_train).mean())\n",
    "print(\"CV baseline:\", cross_val_score(baseline,X_train, y_train).mean())\n",
    "print(\"CV forest:\", cross_val_score(rfc, X_train, y_train).mean())"
   ]
  },
  {
   "cell_type": "code",
   "execution_count": 31,
   "metadata": {},
   "outputs": [
    {
     "name": "stdout",
     "output_type": "stream",
     "text": [
      "test score single tree: 0.650474273074\n",
      "test score baseline: 0.369346176501\n",
      "test score forest: 0.680672838686\n"
     ]
    }
   ],
   "source": [
    "# test score\n",
    "single_tree.fit(X_train, y_train)\n",
    "baseline.fit(X_train, y_train)\n",
    "print(\"test score single tree:\", single_tree.score(X_test, y_test))\n",
    "print(\"test score baseline:\", baseline.score(X_test, y_test))\n",
    "print(\"test score forest:\", rfc.score(X_test, y_test))"
   ]
  },
  {
   "cell_type": "markdown",
   "metadata": {},
   "source": [
    "# Use pct-white only"
   ]
  },
  {
   "cell_type": "code",
   "execution_count": 32,
   "metadata": {},
   "outputs": [
    {
     "data": {
      "image/png": "[encoded data removed]",
      "text/plain": [
       "<matplotlib.figure.Figure at 0x1e76628c5c0>"
      ]
     },
     "metadata": {},
     "output_type": "display_data"
    }
   ],
   "source": [
    "X = df_city.drop(['GEOID','year','name','parent-location','imputed','subbed','eviction-rate','eviction-filings','evictions','eviction-filing-rate',\n",
    "                      'renter-occupied-households','pct-nh-pi','pct-other','pct-am-ind','pct-af-am','population','pct-hispanic','pct-multiple','pct-asian'],axis=1)\n",
    "y = df_city['eviction-rate']\n",
    "\n",
    "X_train, X_test, y_train, y_test = train_test_split(X, y, test_size=0.3, random_state=101)\n",
    "\n",
    "rfc = RandomForestRegressor(n_estimators=100)\n",
    "rfc.fit(X_train,y_train)\n",
    "\n",
    "predictions = rfc.predict(X_test)\n",
    "plt.scatter(y_test,predictions)\n",
    "plt.xlabel(\"target\")\n",
    "plt.ylabel(\"prediction\")\n",
    "ymin = np.round( min( min(y_test), min(predictions) ) )\n",
    "ymax = np.ceil( max( max(y_test), max(predictions) ) )"
   ]
  },
  {
   "cell_type": "code",
   "execution_count": 33,
   "metadata": {},
   "outputs": [
    {
     "name": "stdout",
     "output_type": "stream",
     "text": [
      "Training set score: 0.8385438753\n",
      "Test set score: 0.6835667333\n",
      "MAE: 3.42058012685\n",
      "MSE: 27.1579312164\n",
      "RMSE: 5.21132720297\n"
     ]
    }
   ],
   "source": [
    "print(\"Training set score: %.10f\" % rfc.score(X_train, y_train))\n",
    "print(\"Test set score: %.10f\" % rfc.score(X_test, y_test))\n",
    "print('MAE:', metrics.mean_absolute_error(y_test, predictions))\n",
    "print('MSE:', metrics.mean_squared_error(y_test, predictions))\n",
    "print('RMSE:', np.sqrt(metrics.mean_squared_error(y_test, predictions)))"
   ]
  },
  {
   "cell_type": "markdown",
   "metadata": {},
   "source": [
    "# Use both pct-white and pct-af-am"
   ]
  },
  {
   "cell_type": "code",
   "execution_count": 34,
   "metadata": {},
   "outputs": [
    {
     "data": {
      "image/png": "[encoded data removed]",
      "text/plain": [
       "<matplotlib.figure.Figure at 0x1e7665e7320>"
      ]
     },
     "metadata": {},
     "output_type": "display_data"
    }
   ],
   "source": [
    "X = df_city.drop(['GEOID','year','name','parent-location','imputed','subbed','eviction-rate','eviction-filings','evictions','eviction-filing-rate',\n",
    "                      'renter-occupied-households','pct-nh-pi','pct-other','pct-am-ind','population','pct-hispanic','pct-multiple','pct-asian'],axis=1)\n",
    "y = df_city['eviction-rate']\n",
    "\n",
    "X_train, X_test, y_train, y_test = train_test_split(X, y, test_size=0.3, random_state=101)\n",
    "\n",
    "rfc = RandomForestRegressor(n_estimators=100)\n",
    "rfc.fit(X_train,y_train)\n",
    "\n",
    "predictions = rfc.predict(X_test)\n",
    "plt.scatter(y_test,predictions)\n",
    "plt.xlabel(\"target\")\n",
    "plt.ylabel(\"prediction\")\n",
    "ymin = np.round( min( min(y_test), min(predictions) ) )\n",
    "ymax = np.ceil( max( max(y_test), max(predictions) ) )"
   ]
  },
  {
   "cell_type": "code",
   "execution_count": 35,
   "metadata": {},
   "outputs": [
    {
     "name": "stdout",
     "output_type": "stream",
     "text": [
      "Training set score: 0.8384595373\n",
      "Test set score: 0.6756858607\n",
      "MAE: 3.46403258461\n",
      "MSE: 27.8343082582\n",
      "RMSE: 5.27582299345\n"
     ]
    }
   ],
   "source": [
    "print(\"Training set score: %.10f\" % rfc.score(X_train, y_train))\n",
    "print(\"Test set score: %.10f\" % rfc.score(X_test, y_test))\n",
    "print('MAE:', metrics.mean_absolute_error(y_test, predictions))\n",
    "print('MSE:', metrics.mean_squared_error(y_test, predictions))\n",
    "print('RMSE:', np.sqrt(metrics.mean_squared_error(y_test, predictions)))"
   ]
  },
  {
   "cell_type": "code",
   "execution_count": 36,
   "metadata": {},
   "outputs": [
    {
     "name": "stdout",
     "output_type": "stream",
     "text": [
      "Feature ranking:\n",
      "1. feature 6 (pct-white) (0.476873)\n",
      "2. feature 7 (pct-af-am) (0.139598)\n",
      "3. feature 1 (pct-renter-occupied) (0.095198)\n",
      "4. feature 2 (median-gross-rent) (0.083145)\n",
      "5. feature 3 (median-household-income) (0.058737)\n",
      "6. feature 4 (median-property-value) (0.056555)\n",
      "7. feature 0 (poverty-rate) (0.045450)\n",
      "8. feature 5 (rent-burden) (0.044444)\n"
     ]
    },
    {
     "data": {
      "image/png": "[encoded data removed]",
      "text/plain": [
       "<matplotlib.figure.Figure at 0x1e76665d320>"
      ]
     },
     "metadata": {},
     "output_type": "display_data"
    }
   ],
   "source": [
    "importances = rfc.feature_importances_\n",
    "\n",
    "std = np.std([tree.feature_importances_ for tree in rfc.estimators_], axis=0)\n",
    "indices = np.argsort(importances)[::-1]\n",
    "\n",
    "# Print the feature ranking\n",
    "print(\"Feature ranking:\")\n",
    "\n",
    "for f in range(X.shape[1]):\n",
    "    print(\"%d. feature %d (%s) (%f)\" % (f + 1,indices[f], X.columns[indices[f]], importances[indices[f]]))\n",
    "    \n",
    "# Plot the feature importances of the forest\n",
    "plt.figure()\n",
    "plt.title(\"Feature importances for Richmond city, Virginia from 2000-2016\")\n",
    "plt.bar(range(X.shape[1]), importances[indices],\n",
    "       color=\"r\", yerr=std[indices], align=\"center\")\n",
    "plt.xticks(range(X.shape[1]), indices)\n",
    "plt.xlim([-1, X.shape[1]])\n",
    "plt.show()"
   ]
  },
  {
   "cell_type": "code",
   "execution_count": null,
   "metadata": {
    "collapsed": true
   },
   "outputs": [],
   "source": []
  },
  {
   "cell_type": "code",
   "execution_count": 37,
   "metadata": {},
   "outputs": [
    {
     "data": {
      "text/html": [
       "<div>\n",
       "<style scoped>\n",
       "    .dataframe tbody tr th:only-of-type {\n",
       "        vertical-align: middle;\n",
       "    }\n",
       "\n",
       "    .dataframe tbody tr th {\n",
       "        vertical-align: top;\n",
       "    }\n",
       "\n",
       "    .dataframe thead th {\n",
       "        text-align: right;\n",
       "    }\n",
       "</style>\n",
       "<table border=\"1\" class=\"dataframe\">\n",
       "  <thead>\n",
       "    <tr style=\"text-align: right;\">\n",
       "      <th></th>\n",
       "      <th>GEOID</th>\n",
       "      <th>population</th>\n",
       "      <th>poverty-rate</th>\n",
       "      <th>pct-renter-occupied</th>\n",
       "      <th>median-gross-rent</th>\n",
       "      <th>median-household-income</th>\n",
       "      <th>median-property-value</th>\n",
       "      <th>rent-burden</th>\n",
       "      <th>pct-white</th>\n",
       "      <th>pct-af-am</th>\n",
       "      <th>...</th>\n",
       "      <th>pct-nh-pi</th>\n",
       "      <th>pct-multiple</th>\n",
       "      <th>pct-other</th>\n",
       "      <th>renter-occupied-households</th>\n",
       "      <th>eviction-filings</th>\n",
       "      <th>evictions</th>\n",
       "      <th>eviction-rate</th>\n",
       "      <th>eviction-filing-rate</th>\n",
       "      <th>imputed</th>\n",
       "      <th>subbed</th>\n",
       "    </tr>\n",
       "    <tr>\n",
       "      <th>year</th>\n",
       "      <th></th>\n",
       "      <th></th>\n",
       "      <th></th>\n",
       "      <th></th>\n",
       "      <th></th>\n",
       "      <th></th>\n",
       "      <th></th>\n",
       "      <th></th>\n",
       "      <th></th>\n",
       "      <th></th>\n",
       "      <th></th>\n",
       "      <th></th>\n",
       "      <th></th>\n",
       "      <th></th>\n",
       "      <th></th>\n",
       "      <th></th>\n",
       "      <th></th>\n",
       "      <th></th>\n",
       "      <th></th>\n",
       "      <th></th>\n",
       "      <th></th>\n",
       "    </tr>\n",
       "  </thead>\n",
       "  <tbody>\n",
       "    <tr>\n",
       "      <th>2000</th>\n",
       "      <td>5.176004e+11</td>\n",
       "      <td>1227.994938</td>\n",
       "      <td>20.420500</td>\n",
       "      <td>50.782313</td>\n",
       "      <td>546.792875</td>\n",
       "      <td>35017.212688</td>\n",
       "      <td>102747.942250</td>\n",
       "      <td>28.388813</td>\n",
       "      <td>36.261500</td>\n",
       "      <td>58.701375</td>\n",
       "      <td>...</td>\n",
       "      <td>0.033062</td>\n",
       "      <td>1.181125</td>\n",
       "      <td>0.155875</td>\n",
       "      <td>280.568750</td>\n",
       "      <td>69.212500</td>\n",
       "      <td>29.675000</td>\n",
       "      <td>11.138750</td>\n",
       "      <td>23.641125</td>\n",
       "      <td>0.0</td>\n",
       "      <td>0.0</td>\n",
       "    </tr>\n",
       "    <tr>\n",
       "      <th>2001</th>\n",
       "      <td>5.176004e+11</td>\n",
       "      <td>1227.994938</td>\n",
       "      <td>20.420500</td>\n",
       "      <td>50.782313</td>\n",
       "      <td>546.792875</td>\n",
       "      <td>35017.212688</td>\n",
       "      <td>102747.942250</td>\n",
       "      <td>28.388813</td>\n",
       "      <td>36.261500</td>\n",
       "      <td>58.701375</td>\n",
       "      <td>...</td>\n",
       "      <td>0.033062</td>\n",
       "      <td>1.181125</td>\n",
       "      <td>0.155875</td>\n",
       "      <td>283.031250</td>\n",
       "      <td>77.850000</td>\n",
       "      <td>31.668750</td>\n",
       "      <td>11.912250</td>\n",
       "      <td>26.658000</td>\n",
       "      <td>0.0</td>\n",
       "      <td>0.0</td>\n",
       "    </tr>\n",
       "    <tr>\n",
       "      <th>2002</th>\n",
       "      <td>5.176004e+11</td>\n",
       "      <td>1227.994938</td>\n",
       "      <td>20.420500</td>\n",
       "      <td>50.782313</td>\n",
       "      <td>546.792875</td>\n",
       "      <td>35017.212688</td>\n",
       "      <td>102747.942250</td>\n",
       "      <td>28.388813</td>\n",
       "      <td>36.261500</td>\n",
       "      <td>58.701375</td>\n",
       "      <td>...</td>\n",
       "      <td>0.033062</td>\n",
       "      <td>1.181125</td>\n",
       "      <td>0.155875</td>\n",
       "      <td>285.481250</td>\n",
       "      <td>145.350000</td>\n",
       "      <td>35.806250</td>\n",
       "      <td>13.245563</td>\n",
       "      <td>48.312500</td>\n",
       "      <td>0.0</td>\n",
       "      <td>0.0</td>\n",
       "    </tr>\n",
       "    <tr>\n",
       "      <th>2003</th>\n",
       "      <td>5.176004e+11</td>\n",
       "      <td>1227.994938</td>\n",
       "      <td>20.420500</td>\n",
       "      <td>50.782313</td>\n",
       "      <td>546.792875</td>\n",
       "      <td>35017.212688</td>\n",
       "      <td>102747.942250</td>\n",
       "      <td>28.388813</td>\n",
       "      <td>36.261500</td>\n",
       "      <td>58.701375</td>\n",
       "      <td>...</td>\n",
       "      <td>0.033062</td>\n",
       "      <td>1.181125</td>\n",
       "      <td>0.155875</td>\n",
       "      <td>287.956250</td>\n",
       "      <td>139.550000</td>\n",
       "      <td>36.587500</td>\n",
       "      <td>13.862125</td>\n",
       "      <td>46.120437</td>\n",
       "      <td>0.0</td>\n",
       "      <td>0.0</td>\n",
       "    </tr>\n",
       "    <tr>\n",
       "      <th>2004</th>\n",
       "      <td>5.176004e+11</td>\n",
       "      <td>1227.994938</td>\n",
       "      <td>20.420500</td>\n",
       "      <td>50.782313</td>\n",
       "      <td>546.792875</td>\n",
       "      <td>35017.212688</td>\n",
       "      <td>102747.942250</td>\n",
       "      <td>28.388813</td>\n",
       "      <td>36.261500</td>\n",
       "      <td>58.701375</td>\n",
       "      <td>...</td>\n",
       "      <td>0.033062</td>\n",
       "      <td>1.181125</td>\n",
       "      <td>0.155875</td>\n",
       "      <td>290.337500</td>\n",
       "      <td>129.212500</td>\n",
       "      <td>33.650000</td>\n",
       "      <td>12.377562</td>\n",
       "      <td>41.297375</td>\n",
       "      <td>0.0</td>\n",
       "      <td>0.0</td>\n",
       "    </tr>\n",
       "    <tr>\n",
       "      <th>2005</th>\n",
       "      <td>5.176004e+11</td>\n",
       "      <td>1240.419813</td>\n",
       "      <td>3.305063</td>\n",
       "      <td>49.461000</td>\n",
       "      <td>748.596812</td>\n",
       "      <td>42793.884125</td>\n",
       "      <td>193746.301063</td>\n",
       "      <td>31.889250</td>\n",
       "      <td>38.159000</td>\n",
       "      <td>53.663500</td>\n",
       "      <td>...</td>\n",
       "      <td>0.022312</td>\n",
       "      <td>2.126688</td>\n",
       "      <td>0.241437</td>\n",
       "      <td>292.962500</td>\n",
       "      <td>126.031250</td>\n",
       "      <td>34.806250</td>\n",
       "      <td>12.545062</td>\n",
       "      <td>39.708375</td>\n",
       "      <td>0.0</td>\n",
       "      <td>0.0</td>\n",
       "    </tr>\n",
       "    <tr>\n",
       "      <th>2006</th>\n",
       "      <td>5.176004e+11</td>\n",
       "      <td>1240.419813</td>\n",
       "      <td>3.305063</td>\n",
       "      <td>49.461000</td>\n",
       "      <td>748.596812</td>\n",
       "      <td>42793.884125</td>\n",
       "      <td>193746.301063</td>\n",
       "      <td>31.889250</td>\n",
       "      <td>38.159000</td>\n",
       "      <td>53.663500</td>\n",
       "      <td>...</td>\n",
       "      <td>0.022312</td>\n",
       "      <td>2.126688</td>\n",
       "      <td>0.241437</td>\n",
       "      <td>295.162500</td>\n",
       "      <td>126.950000</td>\n",
       "      <td>34.875000</td>\n",
       "      <td>12.874625</td>\n",
       "      <td>40.273813</td>\n",
       "      <td>0.0</td>\n",
       "      <td>0.0</td>\n",
       "    </tr>\n",
       "    <tr>\n",
       "      <th>2007</th>\n",
       "      <td>5.176004e+11</td>\n",
       "      <td>1240.419813</td>\n",
       "      <td>3.305063</td>\n",
       "      <td>49.461000</td>\n",
       "      <td>748.596812</td>\n",
       "      <td>42793.884125</td>\n",
       "      <td>193746.301063</td>\n",
       "      <td>31.889250</td>\n",
       "      <td>38.159000</td>\n",
       "      <td>53.663500</td>\n",
       "      <td>...</td>\n",
       "      <td>0.022312</td>\n",
       "      <td>2.126688</td>\n",
       "      <td>0.241437</td>\n",
       "      <td>297.675000</td>\n",
       "      <td>78.262500</td>\n",
       "      <td>35.712500</td>\n",
       "      <td>12.487375</td>\n",
       "      <td>24.627688</td>\n",
       "      <td>0.0</td>\n",
       "      <td>0.0</td>\n",
       "    </tr>\n",
       "    <tr>\n",
       "      <th>2008</th>\n",
       "      <td>5.176004e+11</td>\n",
       "      <td>1240.419813</td>\n",
       "      <td>3.305063</td>\n",
       "      <td>49.461000</td>\n",
       "      <td>748.596812</td>\n",
       "      <td>42793.884125</td>\n",
       "      <td>193746.301063</td>\n",
       "      <td>31.889250</td>\n",
       "      <td>38.159000</td>\n",
       "      <td>53.663500</td>\n",
       "      <td>...</td>\n",
       "      <td>0.022312</td>\n",
       "      <td>2.126688</td>\n",
       "      <td>0.241437</td>\n",
       "      <td>300.025000</td>\n",
       "      <td>68.556250</td>\n",
       "      <td>37.737500</td>\n",
       "      <td>13.170500</td>\n",
       "      <td>21.769687</td>\n",
       "      <td>0.0</td>\n",
       "      <td>0.0</td>\n",
       "    </tr>\n",
       "    <tr>\n",
       "      <th>2009</th>\n",
       "      <td>5.176004e+11</td>\n",
       "      <td>1240.419813</td>\n",
       "      <td>3.305063</td>\n",
       "      <td>49.461000</td>\n",
       "      <td>748.596812</td>\n",
       "      <td>42793.884125</td>\n",
       "      <td>193746.301063</td>\n",
       "      <td>31.889250</td>\n",
       "      <td>38.159000</td>\n",
       "      <td>53.663500</td>\n",
       "      <td>...</td>\n",
       "      <td>0.022312</td>\n",
       "      <td>2.126688</td>\n",
       "      <td>0.241437</td>\n",
       "      <td>302.593750</td>\n",
       "      <td>58.062500</td>\n",
       "      <td>32.456250</td>\n",
       "      <td>11.239563</td>\n",
       "      <td>18.130625</td>\n",
       "      <td>0.0</td>\n",
       "      <td>0.0</td>\n",
       "    </tr>\n",
       "    <tr>\n",
       "      <th>2010</th>\n",
       "      <td>5.176004e+11</td>\n",
       "      <td>1276.560284</td>\n",
       "      <td>18.233901</td>\n",
       "      <td>52.724752</td>\n",
       "      <td>923.475177</td>\n",
       "      <td>43199.141844</td>\n",
       "      <td>199163.829787</td>\n",
       "      <td>35.546809</td>\n",
       "      <td>36.830071</td>\n",
       "      <td>54.377872</td>\n",
       "      <td>...</td>\n",
       "      <td>0.047234</td>\n",
       "      <td>1.734184</td>\n",
       "      <td>0.169504</td>\n",
       "      <td>316.361702</td>\n",
       "      <td>85.617021</td>\n",
       "      <td>34.581560</td>\n",
       "      <td>11.873901</td>\n",
       "      <td>26.131915</td>\n",
       "      <td>0.0</td>\n",
       "      <td>0.0</td>\n",
       "    </tr>\n",
       "    <tr>\n",
       "      <th>2011</th>\n",
       "      <td>5.176004e+11</td>\n",
       "      <td>1383.823077</td>\n",
       "      <td>17.302462</td>\n",
       "      <td>53.522385</td>\n",
       "      <td>952.484615</td>\n",
       "      <td>43883.015385</td>\n",
       "      <td>198284.615385</td>\n",
       "      <td>35.616923</td>\n",
       "      <td>39.105385</td>\n",
       "      <td>51.484308</td>\n",
       "      <td>...</td>\n",
       "      <td>0.014846</td>\n",
       "      <td>2.700231</td>\n",
       "      <td>0.142231</td>\n",
       "      <td>326.861538</td>\n",
       "      <td>104.200000</td>\n",
       "      <td>34.092308</td>\n",
       "      <td>11.778462</td>\n",
       "      <td>31.537077</td>\n",
       "      <td>0.0</td>\n",
       "      <td>0.0</td>\n",
       "    </tr>\n",
       "    <tr>\n",
       "      <th>2012</th>\n",
       "      <td>5.176004e+11</td>\n",
       "      <td>1383.823077</td>\n",
       "      <td>17.302462</td>\n",
       "      <td>53.522385</td>\n",
       "      <td>952.484615</td>\n",
       "      <td>43883.015385</td>\n",
       "      <td>198284.615385</td>\n",
       "      <td>35.616923</td>\n",
       "      <td>39.105385</td>\n",
       "      <td>51.484308</td>\n",
       "      <td>...</td>\n",
       "      <td>0.014846</td>\n",
       "      <td>2.700231</td>\n",
       "      <td>0.142231</td>\n",
       "      <td>333.330769</td>\n",
       "      <td>108.900000</td>\n",
       "      <td>35.530769</td>\n",
       "      <td>12.114846</td>\n",
       "      <td>32.215615</td>\n",
       "      <td>0.0</td>\n",
       "      <td>0.0</td>\n",
       "    </tr>\n",
       "    <tr>\n",
       "      <th>2013</th>\n",
       "      <td>5.176004e+11</td>\n",
       "      <td>1383.823077</td>\n",
       "      <td>17.302462</td>\n",
       "      <td>53.522385</td>\n",
       "      <td>952.484615</td>\n",
       "      <td>43883.015385</td>\n",
       "      <td>198284.615385</td>\n",
       "      <td>35.616923</td>\n",
       "      <td>39.105385</td>\n",
       "      <td>51.484308</td>\n",
       "      <td>...</td>\n",
       "      <td>0.014846</td>\n",
       "      <td>2.700231</td>\n",
       "      <td>0.142231</td>\n",
       "      <td>340.223077</td>\n",
       "      <td>123.730769</td>\n",
       "      <td>35.100000</td>\n",
       "      <td>12.353846</td>\n",
       "      <td>36.668846</td>\n",
       "      <td>0.0</td>\n",
       "      <td>0.0</td>\n",
       "    </tr>\n",
       "    <tr>\n",
       "      <th>2014</th>\n",
       "      <td>5.176004e+11</td>\n",
       "      <td>1383.823077</td>\n",
       "      <td>17.302462</td>\n",
       "      <td>53.522385</td>\n",
       "      <td>952.484615</td>\n",
       "      <td>43883.015385</td>\n",
       "      <td>198284.615385</td>\n",
       "      <td>35.616923</td>\n",
       "      <td>39.105385</td>\n",
       "      <td>51.484308</td>\n",
       "      <td>...</td>\n",
       "      <td>0.014846</td>\n",
       "      <td>2.700231</td>\n",
       "      <td>0.142231</td>\n",
       "      <td>346.653846</td>\n",
       "      <td>130.007692</td>\n",
       "      <td>38.623077</td>\n",
       "      <td>12.692154</td>\n",
       "      <td>38.100231</td>\n",
       "      <td>0.0</td>\n",
       "      <td>0.0</td>\n",
       "    </tr>\n",
       "    <tr>\n",
       "      <th>2015</th>\n",
       "      <td>5.176004e+11</td>\n",
       "      <td>1390.697674</td>\n",
       "      <td>17.269380</td>\n",
       "      <td>53.605039</td>\n",
       "      <td>952.697674</td>\n",
       "      <td>43817.604651</td>\n",
       "      <td>198705.426357</td>\n",
       "      <td>35.665116</td>\n",
       "      <td>39.243178</td>\n",
       "      <td>51.281318</td>\n",
       "      <td>...</td>\n",
       "      <td>0.014961</td>\n",
       "      <td>2.713333</td>\n",
       "      <td>0.143333</td>\n",
       "      <td>355.255814</td>\n",
       "      <td>113.054264</td>\n",
       "      <td>37.038760</td>\n",
       "      <td>11.862868</td>\n",
       "      <td>33.101860</td>\n",
       "      <td>0.0</td>\n",
       "      <td>0.0</td>\n",
       "    </tr>\n",
       "    <tr>\n",
       "      <th>2016</th>\n",
       "      <td>5.176004e+11</td>\n",
       "      <td>1383.823077</td>\n",
       "      <td>17.302462</td>\n",
       "      <td>53.522385</td>\n",
       "      <td>952.484615</td>\n",
       "      <td>43883.015385</td>\n",
       "      <td>198284.615385</td>\n",
       "      <td>35.616923</td>\n",
       "      <td>39.105385</td>\n",
       "      <td>51.484308</td>\n",
       "      <td>...</td>\n",
       "      <td>0.014846</td>\n",
       "      <td>2.700231</td>\n",
       "      <td>0.142231</td>\n",
       "      <td>359.846154</td>\n",
       "      <td>108.746154</td>\n",
       "      <td>40.246154</td>\n",
       "      <td>13.426538</td>\n",
       "      <td>32.650692</td>\n",
       "      <td>0.0</td>\n",
       "      <td>0.0</td>\n",
       "    </tr>\n",
       "  </tbody>\n",
       "</table>\n",
       "<p>17 rows × 23 columns</p>\n",
       "</div>"
      ],
      "text/plain": [
       "             GEOID   population  poverty-rate  pct-renter-occupied  \\\n",
       "year                                                                 \n",
       "2000  5.176004e+11  1227.994938     20.420500            50.782313   \n",
       "2001  5.176004e+11  1227.994938     20.420500            50.782313   \n",
       "2002  5.176004e+11  1227.994938     20.420500            50.782313   \n",
       "2003  5.176004e+11  1227.994938     20.420500            50.782313   \n",
       "2004  5.176004e+11  1227.994938     20.420500            50.782313   \n",
       "2005  5.176004e+11  1240.419813      3.305063            49.461000   \n",
       "2006  5.176004e+11  1240.419813      3.305063            49.461000   \n",
       "2007  5.176004e+11  1240.419813      3.305063            49.461000   \n",
       "2008  5.176004e+11  1240.419813      3.305063            49.461000   \n",
       "2009  5.176004e+11  1240.419813      3.305063            49.461000   \n",
       "2010  5.176004e+11  1276.560284     18.233901            52.724752   \n",
       "2011  5.176004e+11  1383.823077     17.302462            53.522385   \n",
       "2012  5.176004e+11  1383.823077     17.302462            53.522385   \n",
       "2013  5.176004e+11  1383.823077     17.302462            53.522385   \n",
       "2014  5.176004e+11  1383.823077     17.302462            53.522385   \n",
       "2015  5.176004e+11  1390.697674     17.269380            53.605039   \n",
       "2016  5.176004e+11  1383.823077     17.302462            53.522385   \n",
       "\n",
       "      median-gross-rent  median-household-income  median-property-value  \\\n",
       "year                                                                      \n",
       "2000         546.792875             35017.212688          102747.942250   \n",
       "2001         546.792875             35017.212688          102747.942250   \n",
       "2002         546.792875             35017.212688          102747.942250   \n",
       "2003         546.792875             35017.212688          102747.942250   \n",
       "2004         546.792875             35017.212688          102747.942250   \n",
       "2005         748.596812             42793.884125          193746.301063   \n",
       "2006         748.596812             42793.884125          193746.301063   \n",
       "2007         748.596812             42793.884125          193746.301063   \n",
       "2008         748.596812             42793.884125          193746.301063   \n",
       "2009         748.596812             42793.884125          193746.301063   \n",
       "2010         923.475177             43199.141844          199163.829787   \n",
       "2011         952.484615             43883.015385          198284.615385   \n",
       "2012         952.484615             43883.015385          198284.615385   \n",
       "2013         952.484615             43883.015385          198284.615385   \n",
       "2014         952.484615             43883.015385          198284.615385   \n",
       "2015         952.697674             43817.604651          198705.426357   \n",
       "2016         952.484615             43883.015385          198284.615385   \n",
       "\n",
       "      rent-burden  pct-white  pct-af-am   ...    pct-nh-pi  pct-multiple  \\\n",
       "year                                      ...                              \n",
       "2000    28.388813  36.261500  58.701375   ...     0.033062      1.181125   \n",
       "2001    28.388813  36.261500  58.701375   ...     0.033062      1.181125   \n",
       "2002    28.388813  36.261500  58.701375   ...     0.033062      1.181125   \n",
       "2003    28.388813  36.261500  58.701375   ...     0.033062      1.181125   \n",
       "2004    28.388813  36.261500  58.701375   ...     0.033062      1.181125   \n",
       "2005    31.889250  38.159000  53.663500   ...     0.022312      2.126688   \n",
       "2006    31.889250  38.159000  53.663500   ...     0.022312      2.126688   \n",
       "2007    31.889250  38.159000  53.663500   ...     0.022312      2.126688   \n",
       "2008    31.889250  38.159000  53.663500   ...     0.022312      2.126688   \n",
       "2009    31.889250  38.159000  53.663500   ...     0.022312      2.126688   \n",
       "2010    35.546809  36.830071  54.377872   ...     0.047234      1.734184   \n",
       "2011    35.616923  39.105385  51.484308   ...     0.014846      2.700231   \n",
       "2012    35.616923  39.105385  51.484308   ...     0.014846      2.700231   \n",
       "2013    35.616923  39.105385  51.484308   ...     0.014846      2.700231   \n",
       "2014    35.616923  39.105385  51.484308   ...     0.014846      2.700231   \n",
       "2015    35.665116  39.243178  51.281318   ...     0.014961      2.713333   \n",
       "2016    35.616923  39.105385  51.484308   ...     0.014846      2.700231   \n",
       "\n",
       "      pct-other  renter-occupied-households  eviction-filings  evictions  \\\n",
       "year                                                                       \n",
       "2000   0.155875                  280.568750         69.212500  29.675000   \n",
       "2001   0.155875                  283.031250         77.850000  31.668750   \n",
       "2002   0.155875                  285.481250        145.350000  35.806250   \n",
       "2003   0.155875                  287.956250        139.550000  36.587500   \n",
       "2004   0.155875                  290.337500        129.212500  33.650000   \n",
       "2005   0.241437                  292.962500        126.031250  34.806250   \n",
       "2006   0.241437                  295.162500        126.950000  34.875000   \n",
       "2007   0.241437                  297.675000         78.262500  35.712500   \n",
       "2008   0.241437                  300.025000         68.556250  37.737500   \n",
       "2009   0.241437                  302.593750         58.062500  32.456250   \n",
       "2010   0.169504                  316.361702         85.617021  34.581560   \n",
       "2011   0.142231                  326.861538        104.200000  34.092308   \n",
       "2012   0.142231                  333.330769        108.900000  35.530769   \n",
       "2013   0.142231                  340.223077        123.730769  35.100000   \n",
       "2014   0.142231                  346.653846        130.007692  38.623077   \n",
       "2015   0.143333                  355.255814        113.054264  37.038760   \n",
       "2016   0.142231                  359.846154        108.746154  40.246154   \n",
       "\n",
       "      eviction-rate  eviction-filing-rate  imputed  subbed  \n",
       "year                                                        \n",
       "2000      11.138750             23.641125      0.0     0.0  \n",
       "2001      11.912250             26.658000      0.0     0.0  \n",
       "2002      13.245563             48.312500      0.0     0.0  \n",
       "2003      13.862125             46.120437      0.0     0.0  \n",
       "2004      12.377562             41.297375      0.0     0.0  \n",
       "2005      12.545062             39.708375      0.0     0.0  \n",
       "2006      12.874625             40.273813      0.0     0.0  \n",
       "2007      12.487375             24.627688      0.0     0.0  \n",
       "2008      13.170500             21.769687      0.0     0.0  \n",
       "2009      11.239563             18.130625      0.0     0.0  \n",
       "2010      11.873901             26.131915      0.0     0.0  \n",
       "2011      11.778462             31.537077      0.0     0.0  \n",
       "2012      12.114846             32.215615      0.0     0.0  \n",
       "2013      12.353846             36.668846      0.0     0.0  \n",
       "2014      12.692154             38.100231      0.0     0.0  \n",
       "2015      11.862868             33.101860      0.0     0.0  \n",
       "2016      13.426538             32.650692      0.0     0.0  \n",
       "\n",
       "[17 rows x 23 columns]"
      ]
     },
     "execution_count": 37,
     "metadata": {},
     "output_type": "execute_result"
    }
   ],
   "source": [
    "by_year = df_city.groupby('year')\n",
    "by_year.mean()"
   ]
  },
  {
   "cell_type": "code",
   "execution_count": 38,
   "metadata": {},
   "outputs": [
    {
     "data": {
      "image/png": "[encoded data removed]",
      "text/plain": [
       "<matplotlib.figure.Figure at 0x1e7666e3208>"
      ]
     },
     "metadata": {},
     "output_type": "display_data"
    }
   ],
   "source": [
    "fig = plt.figure(figsize=(10,10))\n",
    "ax = plt.subplot(111)\n",
    "ax.plot(np.array(range(2000,2017)),by_year.mean()['pct-white'].as_matrix(),'-ro',label = 'pct-white')\n",
    "ax.plot(np.array(range(2000,2017)),by_year.mean()['pct-af-am'].as_matrix(),'-go',label = 'pct-af-am')\n",
    "ax.plot(np.array(range(2000,2017)),by_year.mean()['pct-hispanic'].as_matrix(),'-bo',label = 'pct-hispanic')\n",
    "ax.plot(np.array(range(2000,2017)),by_year.mean()['pct-am-ind'].as_matrix(),'-ko',label = 'pct-am-ind')\n",
    "ax.plot(np.array(range(2000,2017)),by_year.mean()['pct-asian'].as_matrix(),'-yo',label = 'pct-asian')\n",
    "ax.plot(np.array(range(2000,2017)),by_year.mean()['pct-nh-pi'].as_matrix(),'-co',label = 'pct-nh-pi')\n",
    "ax.plot(np.array(range(2000,2017)),by_year.mean()['pct-multiple'].as_matrix(),'-mo',label = 'pct-multiple')\n",
    "plt.legend(fontsize=\"xx-large\")\n",
    "plt.title('Hampton city, Virginia')\n",
    "plt.xlabel(\"year\")\n",
    "plt.ylabel(\"mean percentage\")\n",
    "ax.legend()\n",
    "plt.show()\n",
    "fig.savefig('Fig_VA_RichmondCity_races.jpg')"
   ]
  },
  {
   "cell_type": "code",
   "execution_count": 39,
   "metadata": {},
   "outputs": [
    {
     "data": {
      "text/plain": [
       "Text(0,0.5,'mean eviction-rate')"
      ]
     },
     "execution_count": 39,
     "metadata": {},
     "output_type": "execute_result"
    },
    {
     "data": {
      "image/png": "[encoded data removed]",
      "text/plain": [
       "<matplotlib.figure.Figure at 0x1e7666e35c0>"
      ]
     },
     "metadata": {},
     "output_type": "display_data"
    }
   ],
   "source": [
    "plt.scatter(np.array(range(2000,2017)),by_year.mean()['eviction-rate'].as_matrix())\n",
    "plt.xlabel(\"year\")\n",
    "plt.ylabel('mean eviction-rate')"
   ]
  },
  {
   "cell_type": "code",
   "execution_count": 40,
   "metadata": {},
   "outputs": [
    {
     "data": {
      "image/png": "[encoded data removed]",
      "text/plain": [
       "<matplotlib.figure.Figure at 0x1e766513908>"
      ]
     },
     "metadata": {},
     "output_type": "display_data"
    }
   ],
   "source": [
    "fig, axes = plt.subplots(nrows=3, ncols=2,figsize=(15,15))\n",
    "\n",
    "fig.suptitle('VA HRichmond City Mean Parameter vs. Year')\n",
    "\n",
    "ax0, ax1, ax2, ax3, ax4, ax5 = axes.flatten()\n",
    "\n",
    "ax0.scatter(np.array(range(2000,2017)),by_year.mean()['population'].as_matrix())\n",
    "ax0.set_ylabel('mean population')\n",
    "\n",
    "ax1.scatter(np.array(range(2000,2017)),by_year.mean()['pct-renter-occupied'].as_matrix())\n",
    "ax1.set_ylabel('mean pct-renter-occupied')\n",
    "\n",
    "ax2.scatter(np.array(range(2000,2017)),by_year.mean()['median-gross-rent'].as_matrix())\n",
    "ax2.set_ylabel('median-gross-rent')\n",
    "\n",
    "ax3.scatter(np.array(range(2000,2017)),by_year.mean()['median-household-income'].as_matrix())\n",
    "ax3.set_ylabel('mean median-household-income')\n",
    "\n",
    "ax4.scatter(np.array(range(2000,2017)),by_year.mean()['rent-burden'].as_matrix())\n",
    "ax4.set_ylabel('mean rent-burden')\n",
    "\n",
    "ax5.scatter(np.array(range(2000,2017)),by_year.mean()['eviction-rate'].as_matrix())\n",
    "ax5.set_ylabel('mean eviction-rate')\n",
    "\n",
    "fig.savefig('Fig_VA_RichmondCity_YearMean.jpg')"
   ]
  }
 ],
 "metadata": {
  "kernelspec": {
   "display_name": "Python 3",
   "language": "python",
   "name": "python3"
  },
  "language_info": {
   "codemirror_mode": {
    "name": "ipython",
    "version": 3
   },
   "file_extension": ".py",
   "mimetype": "text/x-python",
   "name": "python",
   "nbconvert_exporter": "python",
   "pygments_lexer": "ipython3",
   "version": "3.6.3"
  }
 },
 "nbformat": 4,
 "nbformat_minor": 2
}
